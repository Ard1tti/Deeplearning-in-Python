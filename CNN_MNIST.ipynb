{
 "cells": [
  {
   "cell_type": "code",
   "execution_count": 1,
   "metadata": {
    "collapsed": true
   },
   "outputs": [],
   "source": [
    "import pickle\n",
    "import gzip\n",
    "\n",
    "from PIL import Image\n",
    "import numpy as np\n",
    "import tensorflow as tf"
   ]
  },
  {
   "cell_type": "markdown",
   "metadata": {},
   "source": [
    "# 1. Data intake"
   ]
  },
  {
   "cell_type": "code",
   "execution_count": 2,
   "metadata": {
    "collapsed": true
   },
   "outputs": [],
   "source": [
    "with gzip.open('mnist.pkl.gz', 'rb') as f:\n",
    "    u = pickle._Unpickler(f)\n",
    "    u.encoding = 'latin1'\n",
    "    tr_s, va_s, te_s = u.load()"
   ]
  },
  {
   "cell_type": "code",
   "execution_count": 3,
   "metadata": {
    "collapsed": true
   },
   "outputs": [],
   "source": [
    "tr_i = [np.reshape(x, (28,28,1)) for x in tr_s[0]]\n",
    "tr_d = list(zip(tr_i, tr_s[1]))\n",
    "\n",
    "va_i = [np.reshape(x, (28,28,1)) for x in va_s[0]]\n",
    "\n",
    "te_i = [np.reshape(x, (28,28,1)) for x in te_s[0]]"
   ]
  },
  {
   "cell_type": "markdown",
   "metadata": {
    "collapsed": true
   },
   "source": [
    "# 2. Building a Convolutional Network"
   ]
  },
  {
   "cell_type": "code",
   "execution_count": 4,
   "metadata": {
    "collapsed": true
   },
   "outputs": [],
   "source": [
    "inp = tf.placeholder(tf.float32, [None, 28, 28, 1])\n",
    "outp = tf.placeholder(tf.int32, [None])"
   ]
  },
  {
   "cell_type": "code",
   "execution_count": 5,
   "metadata": {
    "collapsed": false
   },
   "outputs": [],
   "source": [
    "image = inp\n",
    "\n",
    "# Convolution Layer\n",
    "weight1 = tf.Variable(tf.random_normal([5,5,1,20], mean=0, stddev=1/5),\n",
    "                      name = 'weight1')\n",
    "bias1 = tf.Variable(tf.random_normal([20], mean=0.1, stddev=1),\n",
    "                    name = 'bias1')\n",
    "\n",
    "image = tf.nn.relu(tf.nn.conv2d(image, weight1, strides=[1,1,1,1],\n",
    "                                padding='VALID') + bias1)"
   ]
  },
  {
   "cell_type": "code",
   "execution_count": 6,
   "metadata": {
    "collapsed": true
   },
   "outputs": [],
   "source": [
    "# Pooling Layer\n",
    "image = tf.nn.max_pool(image, ksize=[1,2,2,1], strides=[1,2,2,1],\n",
    "                       padding='VALID')\n",
    "image = tf.reshape(image, [-1,20*12*12])"
   ]
  },
  {
   "cell_type": "code",
   "execution_count": 7,
   "metadata": {
    "collapsed": false
   },
   "outputs": [],
   "source": [
    "# Fully Connected Layer\n",
    "weight2 = tf.Variable(tf.random_normal([20*12*12, 100], mean=0, stddev=1/np.sqrt(20*12*12)),\n",
    "                      name = 'weight2')\n",
    "bias2 = tf.Variable(tf.random_normal([100], mean=0.1, stddev=1),\n",
    "                    name = 'bias2')\n",
    "\n",
    "image = tf.nn.relu(tf.matmul(image, weight2) + bias2)"
   ]
  },
  {
   "cell_type": "code",
   "execution_count": 8,
   "metadata": {
    "collapsed": true
   },
   "outputs": [],
   "source": [
    "# Softmax Layer\n",
    "weight3 = tf.Variable(tf.random_normal([100,10], mean=0, stddev=1/10),\n",
    "                      name = 'weight3')\n",
    "bias3 = tf.Variable(tf.random_normal([10], mean=0.1, stddev=1),\n",
    "                    name = 'bias3')\n",
    "\n",
    "image = tf.matmul(image, weight3) + bias3"
   ]
  },
  {
   "cell_type": "markdown",
   "metadata": {},
   "source": [
    "# 3. Optimization Problem"
   ]
  },
  {
   "cell_type": "code",
   "execution_count": 9,
   "metadata": {
    "collapsed": false
   },
   "outputs": [],
   "source": [
    "# Cross-entropy Loss\n",
    "loss = tf.reduce_mean(\n",
    "    tf.nn.sparse_softmax_cross_entropy_with_logits(image, outp))"
   ]
  },
  {
   "cell_type": "code",
   "execution_count": 10,
   "metadata": {
    "collapsed": false
   },
   "outputs": [],
   "source": [
    "optimizer = tf.train.GradientDescentOptimizer(0.1)\n",
    "train = optimizer.minimize(loss)"
   ]
  },
  {
   "cell_type": "markdown",
   "metadata": {},
   "source": [
    "# 4. Training Convolutional Network"
   ]
  },
  {
   "cell_type": "code",
   "execution_count": 11,
   "metadata": {
    "collapsed": true
   },
   "outputs": [],
   "source": [
    "batch_size = 100\n",
    "epoch_num = 100"
   ]
  },
  {
   "cell_type": "code",
   "execution_count": null,
   "metadata": {
    "collapsed": false
   },
   "outputs": [
    {
     "name": "stdout",
     "output_type": "stream",
     "text": [
      "Epoch 0 :  0.8492\n",
      "Epoch 1 :  0.9616\n",
      "Epoch 2 :  0.9698\n",
      "Epoch 3 :  0.9795\n",
      "Epoch 4 :  0.9823\n",
      "Epoch 5 :  0.9824\n",
      "Epoch 6 :  0.9845\n",
      "Epoch 7 :  0.9854\n",
      "Epoch 8 :  0.9866\n",
      "Epoch 9 :  0.9845\n",
      "Epoch 10 :  0.9847\n",
      "Epoch 11 :  0.9851\n",
      "Epoch 12 :  0.9847\n",
      "Epoch 13 :  0.986\n",
      "Epoch 14 :  0.9865\n",
      "Epoch 15 :  0.9863\n",
      "Epoch 16 :  0.9871\n",
      "Epoch 17 :  0.985\n",
      "Epoch 18 :  0.9865\n",
      "Epoch 19 :  0.9875\n",
      "Epoch 20 :  0.9851\n",
      "Epoch 21 :  0.9871\n",
      "Epoch 22 :  0.9866\n",
      "Epoch 23 :  0.9871\n",
      "Epoch 24 :  0.9867\n",
      "Epoch 25 :  0.9869\n",
      "Epoch 26 :  0.9867\n",
      "Epoch 27 :  0.9865\n",
      "Epoch 28 :  0.9863\n",
      "Epoch 29 :  0.9855\n",
      "Epoch 30 :  0.9859\n",
      "Epoch 31 :  0.987\n",
      "Epoch 32 :  0.9862\n",
      "Epoch 33 :  0.9867\n",
      "Epoch 34 :  0.9872\n",
      "Epoch 35 :  0.9867\n",
      "Epoch 36 :  0.9867\n",
      "Epoch 37 :  0.9867\n",
      "Epoch 38 :  0.9873\n",
      "Epoch 39 :  0.9875\n",
      "Epoch 40 :  0.987\n",
      "Epoch 41 :  0.9866\n",
      "Epoch 42 :  0.9869\n",
      "Epoch 43 :  0.987\n",
      "Epoch 44 :  0.9873\n",
      "Epoch 45 :  0.9871\n",
      "Epoch 46 :  0.9874\n",
      "Epoch 47 :  0.9874\n",
      "Epoch 48 :  0.9873\n",
      "Epoch 49 :  0.9869\n",
      "Epoch 50 :  0.9872\n",
      "Epoch 51 :  0.9873\n",
      "Epoch 52 :  0.9875\n",
      "Epoch 53 :  0.9872\n",
      "Epoch 54 :  0.9874\n",
      "Epoch 55 :  0.9869\n",
      "Epoch 56 :  0.9873\n",
      "Epoch 57 :  0.9873\n",
      "Epoch 58 :  0.9874\n",
      "Epoch 59 :  0.9873\n",
      "Epoch 60 :  0.9874\n",
      "Epoch 61 :  0.9871\n",
      "Epoch 62 :  0.9872\n",
      "Epoch 63 :  0.9873\n",
      "Epoch 64 :  0.9873\n",
      "Epoch 65 :  0.9868\n",
      "Epoch 66 :  0.9871\n",
      "Epoch 67 :  0.987\n",
      "Epoch 68 :  0.9873\n",
      "Epoch 69 :  0.9873\n",
      "Epoch 70 :  0.9868\n",
      "Epoch 71 :  0.9871\n",
      "Epoch 72 :  0.9871\n",
      "Epoch 73 :  0.9874\n",
      "Epoch 74 :  0.9872\n",
      "Epoch 75 :  0.9872\n",
      "Epoch 76 :  0.9869\n",
      "Epoch 77 :  0.9871\n",
      "Epoch 78 :  0.987\n",
      "Epoch 79 :  0.9871\n",
      "Epoch 80 :  0.987\n",
      "Epoch 81 :  0.9869\n",
      "Epoch 82 :  0.9871\n",
      "Epoch 83 :  0.9868\n",
      "Epoch 84 :  0.9875\n",
      "Epoch 85 :  0.9869\n",
      "Epoch 86 :  0.9872\n",
      "Epoch 87 :  0.9868\n",
      "Epoch 88 :  0.9872\n",
      "Epoch 89 :  0.987\n",
      "Epoch 90 :  0.9873\n",
      "Epoch 91 :  0.9869\n"
     ]
    }
   ],
   "source": [
    "with tf.Session() as sess:\n",
    "    sess.run(tf.global_variables_initializer())\n",
    "    for i in range(epoch_num):\n",
    "        np.random.shuffle(tr_d)\n",
    "    \n",
    "        for j in range(0, len(tr_d), batch_size):\n",
    "            image_data = np.array([x for x, _ in tr_d[j:j+batch_size]])\n",
    "            label_data = np.array([y for _, y in tr_d[j:j+batch_size]],\n",
    "                                  dtype = np.int32)\n",
    "            sess.run(train, feed_dict={inp: image_data, outp: label_data})\n",
    "        \n",
    "        test_results = sess.run(image, feed_dict={inp:te_i})\n",
    "        accuracy = sum(np.argmax(y_)==y for y_, y in zip(test_results,te_s[1]))/len(te_s[1])\n",
    "        print(\"Epoch\", i, \": \", accuracy)"
   ]
  },
  {
   "cell_type": "code",
   "execution_count": 4,
   "metadata": {
    "collapsed": false
   },
   "outputs": [
    {
     "data": {
      "text/plain": [
       "array([7, 2, 1, ..., 4, 5, 6], dtype=int64)"
      ]
     },
     "execution_count": 4,
     "metadata": {},
     "output_type": "execute_result"
    }
   ],
   "source": []
  },
  {
   "cell_type": "code",
   "execution_count": null,
   "metadata": {
    "collapsed": true
   },
   "outputs": [],
   "source": []
  }
 ],
 "metadata": {
  "anaconda-cloud": {},
  "kernelspec": {
   "display_name": "Python [conda root]",
   "language": "python",
   "name": "conda-root-py"
  },
  "language_info": {
   "codemirror_mode": {
    "name": "ipython",
    "version": 3
   },
   "file_extension": ".py",
   "mimetype": "text/x-python",
   "name": "python",
   "nbconvert_exporter": "python",
   "pygments_lexer": "ipython3",
   "version": "3.5.2"
  }
 },
 "nbformat": 4,
 "nbformat_minor": 1
}
